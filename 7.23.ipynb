{
 "cells": [
  {
   "cell_type": "markdown",
   "metadata": {},
   "source": [
    "# 对象和类\n",
    "- 一个学生，一张桌子，一个圆都是对象\n",
    "- 对象是类的一个实例，你可以创建多个对象，创建类的一个实例过程被称为实例化，\n",
    "- 在Python中对象就是实例，而实例就是对象"
   ]
  },
  {
   "cell_type": "markdown",
   "metadata": {},
   "source": [
    "## 定义类\n",
    "class ClassName:\n",
    "\n",
    "    do something\n",
    "    \n",
    "- class 类的表示与def 一样\n",
    "- 类名最好使用驼峰式\n",
    "- 在Python2中类是需要继承基类object的，在Python中默认继承，可写可不写\n",
    "- 可以将普通代码理解为皮肤，而函数可以理解为内衣，那么类可以理解为外套"
   ]
  },
  {
   "cell_type": "code",
   "execution_count": 34,
   "metadata": {},
   "outputs": [],
   "source": [
    "# 类必须初始化,是用self,初始化自身.\n",
    "# 类里面所有的函数中的第一个变量不再是参数,而是一个印记.\n",
    "# 在类中,如果有参数需要多次使用,那么就可以将其设置为共享参数\n",
    "class Joker:\n",
    "    def __init__(self,num1,num2):\n",
    "        print('我初始化了')\n",
    "        # 参数共享\n",
    "        self.num1 = num1\n",
    "        self.num2 = num2\n",
    "        print(self.num1,self.num2)\n",
    "    def SUM(self,name):\n",
    "        print(name)\n",
    "        return self.num1 + self.num2\n",
    "    def cheng(self):\n",
    "        return self.num1 * self.num2"
   ]
  },
  {
   "cell_type": "code",
   "execution_count": 35,
   "metadata": {},
   "outputs": [
    {
     "name": "stdout",
     "output_type": "stream",
     "text": [
      "我初始化了\n",
      "1 2\n"
     ]
    }
   ],
   "source": [
    "huwang = Joker(num1=1,num2=2) # () 代表直接走初始化函数"
   ]
  },
  {
   "cell_type": "code",
   "execution_count": 36,
   "metadata": {},
   "outputs": [
    {
     "name": "stdout",
     "output_type": "stream",
     "text": [
      "JJJ\n"
     ]
    },
    {
     "data": {
      "text/plain": [
       "3"
      ]
     },
     "execution_count": 36,
     "metadata": {},
     "output_type": "execute_result"
    }
   ],
   "source": [
    "huwang.SUM(name='JJJ')"
   ]
  },
  {
   "cell_type": "code",
   "execution_count": 33,
   "metadata": {},
   "outputs": [
    {
     "data": {
      "text/plain": [
       "2"
      ]
     },
     "execution_count": 33,
     "metadata": {},
     "output_type": "execute_result"
    }
   ],
   "source": [
    "huwang.cheng()"
   ]
  },
  {
   "cell_type": "markdown",
   "metadata": {},
   "source": [
    "## 定义一个不含初始化__init__的简单类\n",
    "class ClassName:\n",
    "\n",
    "    joker = “Home”\n",
    "    \n",
    "    def func():\n",
    "        print('Worker')\n",
    "    \n",
    "- 尽量少使用"
   ]
  },
  {
   "cell_type": "markdown",
   "metadata": {},
   "source": [
    "\n",
    "\n",
    "## 定义一个标准类\n",
    "- __init__ 代表初始化，可以初始化任何动作\n",
    "- 此时类调用要使用()，其中（）可以理解为开始初始化\n",
    "- 初始化内的元素，类中其他的函数可以共享\n",
    "![](../Photo/85.png)"
   ]
  },
  {
   "cell_type": "markdown",
   "metadata": {},
   "source": [
    "- Circle 和 className_ 的第一个区别有 __init__ 这个函数\n",
    "- 。。。。   第二个区别，类中的每一个函数都有self的这个“参数”"
   ]
  },
  {
   "cell_type": "markdown",
   "metadata": {},
   "source": [
    "## 何为self？\n",
    "- self 是指向对象本身的参数\n",
    "- self 只是一个命名规则，其实可以改变的，但是我们约定俗成的是self，也便于理解\n",
    "- 使用了self就可以访问类中定义的成员\n",
    "<img src=\"../Photo/86.png\"></img>"
   ]
  },
  {
   "cell_type": "markdown",
   "metadata": {},
   "source": [
    "## 使用类 Cirlcle"
   ]
  },
  {
   "cell_type": "markdown",
   "metadata": {},
   "source": [
    "## 类的传参\n",
    "- class ClassName:\n",
    "    \n",
    "        def __init__(self, para1,para2...)：\n",
    "            \n",
    "            self.para1 = para1\n",
    "            \n",
    "            self.para2 = para2"
   ]
  },
  {
   "cell_type": "markdown",
   "metadata": {},
   "source": [
    "## EP:\n",
    "- A：定义一个类，类中含有两个功能：\n",
    "    - 1、产生3个随机数，获取最大值\n",
    "    - 2、产生3个随机数，获取最小值\n",
    "- B：定义一个类，（类中函数的嵌套使用）\n",
    "    - 1、第一个函数的功能为：输入一个数字\n",
    "    - 2、第二个函数的功能为：使用第一个函数中得到的数字进行平方处理\n",
    "    - 3、第三个函数的功能为：得到平方处理后的数字 - 原来输入的数字，并打印结果"
   ]
  },
  {
   "cell_type": "code",
   "execution_count": 83,
   "metadata": {},
   "outputs": [],
   "source": [
    "class Joker2:\n",
    "    \"\"\"\n",
    "    Implement Login Class.\n",
    "    \"\"\"\n",
    "    def __init__(self):\n",
    "        \"\"\"\n",
    "        Initialization class\n",
    "        Arguments:\n",
    "        ---------\n",
    "            name: xxx\n",
    "            None.\n",
    "        Returns:\n",
    "        --------\n",
    "            None.\n",
    "        \"\"\"\n",
    "        self.account = '123'\n",
    "        self.password = '123'\n",
    "    def Account(self):\n",
    "        \"\"\"\n",
    "        Input Account value\n",
    "        Arguments:\n",
    "        ---------\n",
    "            None.\n",
    "        Returns:\n",
    "        --------\n",
    "            None.\n",
    "        \"\"\"\n",
    "        self.acc = input('请输入账号:>>')\n",
    "    def Password(self):\n",
    "        \"\"\"\n",
    "        Input Password value\n",
    "        Arguments:\n",
    "        ---------\n",
    "            None.\n",
    "        Returns:\n",
    "        --------\n",
    "            None.\n",
    "        \"\"\"\n",
    "        self.passwor = input('请输入密码:>>')\n",
    "    def Check(self):\n",
    "        \"\"\"\n",
    "        Check account and password\n",
    "        Note:\n",
    "        ----\n",
    "            we need \"and\" connect.\n",
    "            if account and password is right, then login OK.\n",
    "            else: running Veriy func.\n",
    "        \"\"\"\n",
    "        if self.acc == self.account and self.passwor == self.password:\n",
    "            print('Success')\n",
    "        else:\n",
    "            # running Verify !\n",
    "            self.Verify()\n",
    "    def Verify(self):\n",
    "        \"\"\"\n",
    "        Verify ....\n",
    "        \"\"\"\n",
    "        Verify_Var = 123\n",
    "        print('验证码是:',Verify_Var)\n",
    "        while 1:\n",
    "            User_Verify = eval(input('请输入验证码:>>'))\n",
    "            if User_Verify == Verify_Var:\n",
    "                print('Failed')\n",
    "                break\n",
    "    def Start(self):\n",
    "        \"\"\"\n",
    "        Start definelogistics.\n",
    "        \"\"\"\n",
    "        self.Account()\n",
    "        self.Password()\n",
    "        self.Check()"
   ]
  },
  {
   "cell_type": "code",
   "execution_count": 84,
   "metadata": {},
   "outputs": [],
   "source": [
    "# 创建类的一个实例\n",
    "a = Joker2()"
   ]
  },
  {
   "cell_type": "code",
   "execution_count": 82,
   "metadata": {},
   "outputs": [
    {
     "name": "stdout",
     "output_type": "stream",
     "text": [
      "请输入账号:>>123\n",
      "请输入密码:>>1\n",
      "验证码是: 123\n",
      "请输入验证码:>>1\n",
      "请输入验证码:>>1\n",
      "请输入验证码:>>123\n",
      "Failed\n"
     ]
    }
   ],
   "source": [
    "a.Start()"
   ]
  },
  {
   "cell_type": "markdown",
   "metadata": {},
   "source": [
    "## 类的继承\n",
    "- 类的单继承\n",
    "- 类的多继承\n",
    "- 继承标识\n",
    ">  class SonClass(FatherClass):\n",
    "            \n",
    "            def __init__(self):\n",
    "            \n",
    "                FatherClass.__init__(self)"
   ]
  },
  {
   "cell_type": "code",
   "execution_count": 110,
   "metadata": {
    "scrolled": true
   },
   "outputs": [
    {
     "data": {
      "text/plain": [
       "1000"
      ]
     },
     "execution_count": 110,
     "metadata": {},
     "output_type": "execute_result"
    }
   ],
   "source": [
    "a = 100\n",
    "a = 1000\n",
    "a"
   ]
  },
  {
   "cell_type": "markdown",
   "metadata": {},
   "source": [
    "私有变量,不可继承,不可在外部调用,但是可以在内部使用."
   ]
  },
  {
   "cell_type": "code",
   "execution_count": 32,
   "metadata": {},
   "outputs": [],
   "source": [
    "class A:\n",
    "    def __init__(self):\n",
    "        self.__a = 'a'\n",
    "    def a_(self):\n",
    "        print('aa')\n",
    "        print(self.__a)"
   ]
  },
  {
   "cell_type": "code",
   "execution_count": 35,
   "metadata": {},
   "outputs": [
    {
     "name": "stdout",
     "output_type": "stream",
     "text": [
      "hahah\n"
     ]
    }
   ],
   "source": [
    "def b():\n",
    "    a()\n",
    "    \n",
    "def a():\n",
    "    print('hahah')\n",
    "b()"
   ]
  },
  {
   "cell_type": "markdown",
   "metadata": {},
   "source": [
    "# _ _ -- + = / \\ { } [] ! ~ !@ # $ % ^ & * ( ) < > ……"
   ]
  },
  {
   "cell_type": "markdown",
   "metadata": {},
   "source": [
    "## 私有数据域(私有变量，或者私有函数)\n",
    "- 在Python中 变量名或者函数名使用双下划线代表私有  \\__Joker,   def \\__Joker():\n",
    "- 私有数据域不可继承\n",
    "- 私有数据域强制继承   \\__dir__()"
   ]
  },
  {
   "cell_type": "markdown",
   "metadata": {},
   "source": [
    "![](../Photo/87.png)"
   ]
  },
  {
   "cell_type": "markdown",
   "metadata": {},
   "source": [
    "## EP:\n",
    "![](../Photo/88.png)\n",
    "![](../Photo/89.png)\n",
    "![](../Photo/90.png)\n"
   ]
  },
  {
   "cell_type": "markdown",
   "metadata": {},
   "source": [
    "## 类的其他\n",
    "- 类的封装\n",
    "    - 实际上就是将一类功能放在一起，方便未来进行管理\n",
    "- 类的继承（上面已经讲过）\n",
    "- 类的多态\n",
    "    - 包括装饰器：将放在以后处理高级类中教\n",
    "    - 装饰器的好处：当许多类中的函数需要使用同一个功能的时候，那么使用装饰器就会方便许多\n",
    "    - 装饰器是有固定的写法\n",
    "        - 其包括普通装饰器与带参装饰器"
   ]
  },
  {
   "cell_type": "markdown",
   "metadata": {},
   "source": [
    "# Homewor\n",
    "## UML类图可以不用画\n",
    "## UML 实际上就是一个思维图\n",
    "- 1\n",
    "![](../Photo/91.png)"
   ]
  },
  {
   "cell_type": "code",
   "execution_count": 1,
   "metadata": {},
   "outputs": [
    {
     "name": "stdout",
     "output_type": "stream",
     "text": [
      "160\n",
      "88\n",
      "124.95000000000002\n",
      "78.4\n"
     ]
    }
   ],
   "source": [
    "class Rectangle:\n",
    "    def __init__ (self,width,height):\n",
    "       self.width = width\n",
    "       self.height = height\n",
    "\n",
    "    def getArea(self):\n",
    "        area =  self.width * self.height\n",
    "        print(area)\n",
    "    def getPerimeter (self):\n",
    "        perimater =  (self.width + self.height) * 2\n",
    "        print(perimater)\n",
    "self=Rectangle(4,40)\n",
    "self.getArea()\n",
    "self.getPerimeter()\n",
    "\n",
    "class Rectangle2:\n",
    "    def __init__ (self,width2,height2):\n",
    "       self.width2 = width2\n",
    "       self.height2 = height2\n",
    "\n",
    "    def getArea2(self):\n",
    "        area2 =  self.width2 * self.height2\n",
    "        print(area2)\n",
    "    def getPerimeter2 (self):\n",
    "        perimater2 =  (self.width2 + self.height2) * 2\n",
    "        print(perimater2)\n",
    "self=Rectangle2(3.5,35.7)\n",
    "self.getArea2()\n",
    "self.getPerimeter2()\n"
   ]
  },
  {
   "cell_type": "markdown",
   "metadata": {},
   "source": [
    "- 2\n",
    "![](../Photo/92.png)"
   ]
  },
  {
   "cell_type": "code",
   "execution_count": 2,
   "metadata": {},
   "outputs": [
    {
     "name": "stdout",
     "output_type": "stream",
     "text": [
      "输入账户id__ 1122\n",
      "账户余额__ 20000\n",
      "年利率是__ 0.00045\n",
      "取款__17500\n",
      "存入金额__23000\n",
      "月利率__3.75e-05\n",
      "月利息__0.7499999999999999\n"
     ]
    }
   ],
   "source": [
    "import math\n",
    "class Account :\n",
    "    def __init__ (self,id,balance,annualinterestRate,):\n",
    "        self._id = id\n",
    "        self._balance = balance\n",
    "        self.annualinterestRate = annualinterestRate/100\n",
    "        print('输入账户id__ %s' %self._id )\n",
    "        print('账户余额__ %s' %self._balance)\n",
    "        print('年利率是__ %s' %self.annualinterestRate)\n",
    "\n",
    "\n",
    "\n",
    "    def getMonthlyInterestRate (self):\n",
    "        monthlyInterestrate= self.annualinterestRate/12\n",
    "        print('月利率__%s'%monthlyInterestrate)\n",
    "           \n",
    "\n",
    "\n",
    "    def getMonthlyInterest (self):\n",
    "        interest = self._balance * (self.annualinterestRate/12)      \n",
    "        print('月利息__%s'%interest) \n",
    "        \n",
    "        \n",
    "\n",
    "\n",
    "\n",
    "    def withdraw (self):\n",
    "        self.draw = self._balance - 2500\n",
    "        print('取款__%s'%self.draw)\n",
    "    def deposit (self):\n",
    "        self.posit = self._balance + 3000\n",
    "        print('存入金额__%s'%self.posit)\n",
    "\n",
    "self = Account(1122,20000,0.045)\n",
    "self.withdraw()\n",
    "self.deposit()\n",
    "\n",
    "self.getMonthlyInterestRate()\n",
    "self.getMonthlyInterest()"
   ]
  },
  {
   "cell_type": "markdown",
   "metadata": {},
   "source": [
    "- 3\n",
    "![](../Photo/93.png)"
   ]
  },
  {
   "cell_type": "code",
   "execution_count": 3,
   "metadata": {},
   "outputs": [
    {
     "name": "stdout",
     "output_type": "stream",
     "text": [
      "风的速度————最大\n",
      "状态————on\n",
      "风扇半径————10\n",
      "颜色————yellow\n",
      "风的速度————中等\n",
      "状态————off\n",
      "风扇半径————5\n",
      "颜色————blue\n"
     ]
    }
   ],
   "source": [
    "class Fun:\n",
    "    def __init__ (self,speed,on,radius,color):\n",
    "        self._speed = speed\n",
    "        self._on = on\n",
    "        self._radius = radius\n",
    "        self._color = color\n",
    "        print('风的速度————%s' %self._speed)\n",
    "        print('状态————%s' %self._on)\n",
    "        print('风扇半径————%s' %self._radius)\n",
    "        print('颜色————%s' %self._color)\n",
    "    \n",
    "self = Fun('最大','on',10,'yellow')\n",
    "class Fun1:\n",
    "    def __init__ (self,speed1,on1,radius1,color1):\n",
    "        self._speed1 = speed1\n",
    "        self._on1 = on1\n",
    "        self._radius1 = radius1\n",
    "        self._color1 = color1\n",
    "        print('风的速度————%s' %self._speed1)\n",
    "        print('状态————%s' %self._on1)\n",
    "        print('风扇半径————%s' %self._radius1)\n",
    "        print('颜色————%s' %self._color1)\n",
    "    \n",
    "self = Fun1('中等','off',5,'blue')"
   ]
  },
  {
   "cell_type": "markdown",
   "metadata": {},
   "source": [
    "- 4\n",
    "![](../Photo/94.png)\n",
    "![](../Photo/95.png)"
   ]
  },
  {
   "cell_type": "code",
   "execution_count": 4,
   "metadata": {},
   "outputs": [
    {
     "name": "stdout",
     "output_type": "stream",
     "text": [
      "1周长---：4\n",
      "1面积---： 3.897\n",
      "2周长---：16\n",
      "2面积---： 83.138\n",
      "3周长---：18.0\n",
      "3面积---： 164.491\n"
     ]
    }
   ],
   "source": [
    "import math\n",
    "class RegularPolygon:\n",
    "    def __init__ (self,n,side,x,y,):\n",
    "        self._n = n\n",
    "        self._side =side\n",
    "        self._x = x\n",
    "        self._y = y\n",
    "    def getPerimeter (self):\n",
    "        perimeter = 4 * self._side\n",
    "        print('1周长---：%s' %perimeter)\n",
    "    def getArea (self):\n",
    "        area = (self._n * self._side) * (self._n * self._side)/4 * math.tan(math.pi/self._n)\n",
    "        print('1面积---： %.3f' %area)\n",
    "self = RegularPolygon(3,1,0,0)   \n",
    "\n",
    "self.getPerimeter()     \n",
    "self.getArea()\n",
    "\n",
    "class RegularPolygon1():\n",
    "    def __init__ (self,n1,side1,x1,y1,):\n",
    "        self._n1 = n1\n",
    "        self._side1 =side1\n",
    "        self._x1 = x1\n",
    "        self._y1 = y1\n",
    "    def getPerimeter1 (self):\n",
    "        perimeter1 = 4 * self._side1\n",
    "        print('2周长---：%s' %perimeter1)\n",
    "    def getArea1 (self):\n",
    "        area1 = (self._n1 * self._side1) * (self._n1 * self._side1)/4 * math.tan(math.pi/self._n1)\n",
    "        print('2面积---： %.3f' %area1)\n",
    "self = RegularPolygon1(6,4,0,0)   \n",
    "\n",
    "self.getPerimeter1()     \n",
    "self.getArea1()\n",
    "\n",
    "class RegularPolygon2:\n",
    "    def __init__ (self,n2,side2,x2,y2,):\n",
    "        self._n2 = n2\n",
    "        self._side2 =side2\n",
    "        self._x2 = x2\n",
    "        self._y2 = y2\n",
    "    def getPerimeter2 (self):\n",
    "        perimeter2 = 4 * self._side2\n",
    "        print('3周长---：%s' %perimeter2)\n",
    "    def getArea2 (self):\n",
    "        area2 = (self._n2 * self._side2) * (self._n2 * self._side2)/4 * math.tan(math.pi/self._n2)\n",
    "        print('3面积---： %.3f' %area2)\n",
    "self = RegularPolygon2(10,4.5,6.7,8)   \n",
    "\n",
    "self.getPerimeter2()     \n",
    "self.getArea2()"
   ]
  },
  {
   "cell_type": "markdown",
   "metadata": {},
   "source": [
    "- 5\n",
    "![](../Photo/96.png)"
   ]
  },
  {
   "cell_type": "code",
   "execution_count": 5,
   "metadata": {},
   "outputs": [
    {
     "name": "stdout",
     "output_type": "stream",
     "text": [
      "-4.0\n",
      "4.5\n"
     ]
    }
   ],
   "source": [
    "class LinearEquation:\n",
    "    def __init__ (self,a,b,c,d,e,f):\n",
    "\n",
    "        self. _a = a\n",
    "        self. _b = b\n",
    "        self. _c = c\n",
    "        self. _d = d\n",
    "        self. _e = e\n",
    "        self. _f = f\n",
    "   \n",
    "    def isSolvable (self):\n",
    "        if self._a*self._d-self._b*self._c !=0:\n",
    "          \n",
    "            self.getX()\n",
    "        else:\n",
    "            print('这个方程式无解')\n",
    "\n",
    "    def getX (self):\n",
    "        X = (self._e*self._d-self._b*self._f)/(self._a*self._d-self._b*self._c)\n",
    "        print(X)\n",
    "    def getY (self):\n",
    "        Y = (self._a*self._f-self._e*self._c)/(self._a*self._d-self._b*self._c)\n",
    "        print(Y)\n",
    "\n",
    "self = LinearEquation(1,2,3,4,5,6)\n",
    "self.getX()\n",
    "self.getY()"
   ]
  },
  {
   "cell_type": "markdown",
   "metadata": {},
   "source": [
    "- 6\n",
    "![](../Photo/97.png)"
   ]
  },
  {
   "cell_type": "code",
   "execution_count": null,
   "metadata": {},
   "outputs": [],
   "source": []
  },
  {
   "cell_type": "markdown",
   "metadata": {},
   "source": [
    "- 7\n",
    "![](../Photo/98.png)"
   ]
  }
 ],
 "metadata": {
  "kernelspec": {
   "display_name": "Python 3",
   "language": "python",
   "name": "python3"
  },
  "language_info": {
   "codemirror_mode": {
    "name": "ipython",
    "version": 3
   },
   "file_extension": ".py",
   "mimetype": "text/x-python",
   "name": "python",
   "nbconvert_exporter": "python",
   "pygments_lexer": "ipython3",
   "version": "3.7.3"
  }
 },
 "nbformat": 4,
 "nbformat_minor": 2
}
